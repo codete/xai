{
 "cells": [
  {
   "cell_type": "markdown",
   "metadata": {},
   "source": [
    "# Introduction\n",
    "\n",
    "Explainable AI (XAI) is a very hot topic today. We have seen a boom in AI, because deep learning methods made a huge difference in many areas. There are also many more use cases of AI compared to times before DL. The problem that we face now is that many methods works and we believe that whatever is under the hoods, we don't care. The reality is that it's very important to understand the way how the prediction is done and not only based on the architecture of the method."
   ]
  },
  {
   "cell_type": "markdown",
   "metadata": {},
   "source": [
    "## What is XAI?\n",
    "\n",
    "Explainable AI is about understanding how the model works and how to interpret each stage. It can be also known as Interpretable Artificial Intelligence or Responsible Artificial Intelligence. Before going to the next step let's explain the XAI terms (based on [1]).\n",
    "\n",
    "### Understandability\n",
    "\n",
    "Also known as intelligibility. A model should be understandable by humans. It means how the models works without explaining the internal structure of it, the algorithm or architecture. We shouldn't know how the model process the data internally.\n",
    "\n",
    "### Comprehensibility\n",
    "\n",
    "It means that a method is able to represent its learned knowledge in a human understandable fashion. The way how it works should be done in a same way like a human expert would do it and should be interpretable in natural language. This term is related to the evaluation of model complexity.\n",
    "\n",
    "### Interpretability \n",
    "\n",
    "It is defined as the ability to explain or to provide the meaning in understandable terms to a human.\n",
    "\n",
    "### Explainability\n",
    "\n",
    "It's about an interfae between humans and a decision maker that is at the same time, both an accurate proxy of the decision maker and comprehensible to humans.\n",
    "\n",
    "### Transparency \n",
    "\n",
    "A model is considered to be transparent if by itself it is understandable. Since a model can feature different degree of understandability, transparet models are divided into three categories.\n",
    "\n",
    "## Other XAI definitions\n",
    "\n",
    "XAI will create a suite of machine learning techniques that enables human users to understand appropriately trust, and effectively manage the emerging generation of artificial intelligent partners.\n",
    "\n",
    "Given a certain audience, explainability refers to the details and reasons a model gives to make its functioning clear or easy to understand.\n",
    "\n",
    "Given an audience, an explainable Artificial Intelligence is one that produces details or reasons to make its functioning clear or easy to understand."
   ]
  },
  {
   "cell_type": "markdown",
   "metadata": {},
   "source": [
    "## Why use XAI?\n",
    "\n",
    "There are many scenarios where XAI is very useful. Just to point out a few groups:\n",
    "\n",
    "- domain experts,\n",
    "- regulatory agencies,\n",
    "- managers, executive board members,\n",
    "- data scientists,\n",
    "- users affected by model decisions.\n",
    "\n",
    "The domain experts or users of the model like doctors trust the moel itself, gain scientific knowledge. Th regulatory agensies certify the model compliance with the legislation in force. The managers assess regulatory compliance and understand the corporate AI applications. The data scientists ensurre and improve the product efficiency or develop new functionalitites. Each other user affected by the model decision want to understand the situation and verify fair decisions."
   ]
  },
  {
   "cell_type": "markdown",
   "metadata": {},
   "source": [
    "## Goals\n",
    "\n",
    "There are many goals of an XAI model. Not each goal is met by every method and each goal has a different target audience.\n",
    "\n",
    "- **Trustworthiness** - is important for domain experts and other users affected by the model,\n",
    "- **Causality** - is about the causality of the variables/features we provide,\n",
    "- **Transferability** - it's about reusing the knowledge you get from the model and use it also in other problems/challenges,\n",
    "- **Informativeness** - a great deal of information is needed to be able to relate the user's decision to the solution given by the model, and avoid falling in misconception pitfalls; that's why the models should give information about the problem being tackled,\n",
    "- **Confidence** - model should be robust and stable to assure confidence of the predictions,\n",
    "- **Fairness** - the model should be fair and ethical; usually it's ensured by analysing the method visually,\n",
    "- **Accessibility** - allowing the non-technical or non-expert users to deal with the model/method,\n",
    "- **Interactivity** - interaction with the users can be important in cases where the end user is very important and the impact of the input to the model can tweak the model,\n",
    "- **Privacy awareness** - it's not hard to convince about the privacy of the data and the internal representation is important.\n",
    "\n",
    "Not each XAI model need to fulfill all goals and not each model that meet one of the goals above is a XAI model."
   ]
  },
  {
   "cell_type": "markdown",
   "metadata": {},
   "source": [
    "## Levels of transparency\n",
    "\n",
    "The transparency of a model can be divided into several levels, depending on how transparent the model is. We have three levels:\n",
    "\n",
    "- **Simulatability**. We can easily simulate the process as a human. The model needs to be quite simple to be able to simulate it.\n",
    "- **Decomposability**. It's about explainability of each part of the model. Like a complex model that consist of many layers, we should be able to explain the way how it works on each layer, including the way how the layer process the data, but also explain the input and the ouput of the layer.\n",
    "- **Algorithmic transparency**. Depends on the view, but in most cases it's about the users that understands the process of the model when producing the output (prediction). Linear model are transparent, because of the simplicity and can be easily followed by the user."
   ]
  },
  {
   "cell_type": "markdown",
   "metadata": {},
   "source": [
    "## How to explain the model?\n",
    "\n",
    "There are many ways how we can explain how the model works. It's also called as post-hoc explainability. Just to mention a few methods:\n",
    "- **Text explanation**. We are able to explain the model using text, symbols, formulas.\n",
    "- **Visual explanation**. We visual the model behavior. It's an easy interpretable way for humans to understand the way how the model works.\n",
    "- **Local explanation**. We take a subspace of the model and explain it in different way.\n",
    "- **Explanations by example**. We take an example and go through the model. \n",
    "- **Explanations by simplification**. If the model is a bit too complex, we may simplify it and explain the way how it works on the simplified model.\n",
    "- **Feature relevance explanation**. Explain the relevance of the features we have in our data set and the importance of each to the model outcome."
   ]
  },
  {
   "cell_type": "markdown",
   "metadata": {},
   "source": [
    "## Use cases\n",
    "\n",
    "There are many use case of XAI and will be even more in the future. Most of the models in the future would need to be XAI compliant.\n",
    "\n",
    "### Automotive\n",
    "\n",
    "Tesla truck accident is a good example where XAI is needed. \n",
    "\n",
    "![tesla](./images/tesla.jpg)\n",
    "\n",
    "Another example is the adversarial attach that can be a big problem for the autonomous cars.\n",
    "\n",
    "![camoflage](./images/camoflage.jpg)\n",
    "\n",
    "### Fintech\n",
    "\n",
    "The law force the banks to explain why a customer can or can't get a credit. Replacing this process with machine learning isn't easy.\n",
    "\n",
    "![camoflage](./images/scoring.png)\n",
    "\n",
    "### Healthtech\n",
    "\n",
    "Similar with healthtech as the FDA needs to know exactly how the decision is made.\n",
    "\n",
    "![camoflage](./images/melanoma_xai.png)\n",
    "\n",
    "### E-commerces (Retail)\n",
    "\n",
    "A good example are recommendation systems like the one done by Netflix.\n",
    "\n",
    "![camoflage](./images/netflix.jpg)\n",
    "\n",
    "### Customer support\n",
    "\n",
    "Sometimes it goes in the wrong direction. Explaining the way why the model took the wrong path can save your money and/or reputation. \n",
    "\n",
    "![tay](./images/tay.jpeg)\n",
    "\n",
    "### Security\n",
    "\n",
    "Remember the China social experiment and the current issues in Hong Kong? Get a t-shirt and feel become invisible.\n",
    "\n",
    "![patch](./images/patch.jpeg)"
   ]
  },
  {
   "cell_type": "markdown",
   "metadata": {},
   "source": [
    "## Example model\n",
    "\n",
    "One of the simplest model to explain is linear regression. In this example we use the well-known Diabetes data set that is available using scikit-learn. As you may see below we need to use several libraries to get the set, train the model and plot the results."
   ]
  },
  {
   "cell_type": "code",
   "execution_count": 22,
   "metadata": {},
   "outputs": [
    {
     "name": "stdout",
     "output_type": "stream",
     "text": [
      "['age', 'sex', 'bmi', 'bp', 's1', 's2', 's3', 's4', 's5', 's6']\n"
     ]
    }
   ],
   "source": [
    "import matplotlib.pyplot as plt\n",
    "import numpy as np\n",
    "from sklearn import datasets, linear_model\n",
    "from sklearn.model_selection import train_test_split\n",
    "\n",
    "# Load the diabetes dataset\n",
    "diabetes = datasets.load_diabetes()\n",
    "print(diabetes.feature_names)"
   ]
  },
  {
   "cell_type": "markdown",
   "metadata": {},
   "source": [
    "We need to split the data set into the training and testing sets. We do it in a ratio of 80 to 20."
   ]
  },
  {
   "cell_type": "code",
   "execution_count": 23,
   "metadata": {},
   "outputs": [],
   "source": [
    "X = diabetes.data[:, np.newaxis, 2]\n",
    "X_train, X_test, y_train, y_test = train_test_split(X, \n",
    "                                                    diabetes.target, \n",
    "                                                    test_size=0.2, \n",
    "                                                    random_state=66)"
   ]
  },
  {
   "cell_type": "markdown",
   "metadata": {},
   "source": [
    "The model is created in three steps:\n",
    "1. Create linear regression instance \n",
    "2. Train the model using the training sets\n",
    "3. Make predictions using the testing set"
   ]
  },
  {
   "cell_type": "code",
   "execution_count": 28,
   "metadata": {},
   "outputs": [],
   "source": [
    "regr = linear_model.LinearRegression()\n",
    "regr.fit(X_train, y_train)\n",
    "y_pred = regr.predict(X_test)"
   ]
  },
  {
   "cell_type": "markdown",
   "metadata": {},
   "source": [
    "We can plot the linear regression using the test data set and the prediction. You can see that it's easy to understand what is the relation between the BMI and the disease progression."
   ]
  },
  {
   "cell_type": "code",
   "execution_count": 27,
   "metadata": {},
   "outputs": [
    {
     "data": {
      "image/png": "[encoded data removed]",
      "text/plain": [
       "<Figure size 432x288 with 1 Axes>"
      ]
     },
     "metadata": {
      "needs_background": "light"
     },
     "output_type": "display_data"
    }
   ],
   "source": [
    "plt.scatter(X_test, y_test,  color='black')\n",
    "plt.plot(X_test, y_pred, color='blue', linewidth=2)\n",
    "\n",
    "plt.xlabel('BMI')\n",
    "plt.ylabel('Disease progression')\n",
    "\n",
    "plt.show()"
   ]
  },
  {
   "cell_type": "markdown",
   "metadata": {},
   "source": [
    "## Tools\n",
    "\n",
    "In Python we have a few tools to understand how the model works. A few are pointed out below.\n",
    "\n",
    "### eli5 \n",
    "\n",
    "You can download it from [https://eli5.readthedocs.io/en/latest/overview.html](https://eli5.readthedocs.io/en/latest/overview.html). It is a tool to debug and explain the prediction of a model. With eli5 we can easily debug the models built using scikit-learn or xgboost. It also works with NLP models. Is a tool for text and feature importance explanation.\n",
    "\n",
    "### XAI\n",
    "\n",
    "[https://github.com/EthicalML/XAI](https://github.com/EthicalML/XAI). It is based on 8 Responsible AI principles. It can be used for data analysis and model evaluation. The data analysis is a similar solution to pandas profiling. Model evaluation can be used together with scikit-learn and keras.\n",
    "\n",
    "### IBM aix360 \n",
    "\n",
    "[https://github.com/IBM/AIX360](https://github.com/IBM/AIX360). Is a tool provided by IBM with many examples and tutorials. It covers several explainability algorithms including data, local and global direct explanation.\n",
    "\n",
    "### shap \n",
    "\n",
    "[https://github.com/slundberg/shap](https://github.com/slundberg/shap). Use the SHapley Additive exPlanations method. The Shap method is a game theoretic approach to explain the output of any machine learning model. It connects optimal credit allocation with local explanations using the classic Shapley values from game theory and their related extension\n",
    "\n",
    "### lime \n",
    "\n",
    "You can download Lime form [https://github.com/marcotcr/lime](https://github.com/marcotcr/lime). Lime is able to explain any black box classifier, with two or more classes. It can also explain the network based on images. It's a good tool for deep networks.\n",
    "\n",
    "\n",
    "### skater \n",
    "\n",
    "Skater can be downloaded from [https://github.com/oracle/Skater](https://github.com/oracle/Skater). It can be used for various models including NLP, ensemble and image recognition models. It use lime in case of image interpretation.\n",
    "\n",
    "### tensorboard \n",
    "\n",
    "[https://www.tensorflow.org/tensorboard](https://www.tensorflow.org/tensorboard). Used to explain the model based on Tensorflow. Tensorboard use the log files generated by the tensorflow model during the training phase.\n",
    "\n",
    "![tensorboard](./images/tensorboard.gif)"
   ]
  }
 ],
 "metadata": {
  "kernelspec": {
   "display_name": "Python 3",
   "language": "python",
   "name": "python3"
  },
  "language_info": {
   "codemirror_mode": {
    "name": "ipython",
    "version": 3
   },
   "file_extension": ".py",
   "mimetype": "text/x-python",
   "name": "python",
   "nbconvert_exporter": "python",
   "pygments_lexer": "ipython3",
   "version": "3.6.9"
  }
 },
 "nbformat": 4,
 "nbformat_minor": 2
}
